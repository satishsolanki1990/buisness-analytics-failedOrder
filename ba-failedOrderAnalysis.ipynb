{
 "cells": [
  {
   "cell_type": "markdown",
   "id": "7118bb28",
   "metadata": {},
   "source": [
    "# Insights from Failed Orders\n",
    "\n",
    "This data project has been used as a take-home assignment in the recruitment process for the data science positions at Gett.\n",
    "\n",
    "Gett, previously known as GetTaxi, is an Israeli-developed technology platform solely focused on corporate Ground Transportation Management (GTM). They have an application where clients can order taxis, and drivers can accept their rides (offers). At the moment, when the client clicks the Order button in the application, the matching system searches for the most relevant drivers and offers them the order. \n",
    "\n",
    "In this task, we would like to investigate some matching metrics for orders that did not completed successfully, i.e., the customer didn't end up getting a car.\n",
    "\n",
    "### Assignment\n",
    "Please complete the following tasks.\n",
    "\n",
    "- Build up distribution of orders according to reasons for failure: cancellations before and after driver assignment, and reasons for order rejection. Analyse the resulting plot. Which category has the highest number of orders?\n",
    "- Plot the distribution of failed orders by hours. Is there a trend that certain hours have an abnormally high proportion of one category or another? What hours are the biggest fails? How can this be explained?\n",
    "- Plot the average time to cancellation with and without driver, by the hour. If there are any outliers in the data, it would be better to remove them. Can we draw any conclusions from this plot?\n",
    "- Plot the distribution of average ETA by hours. How can this plot be explained?\n",
    "\n",
    "*BONUS Hexagons. Using the h3 and folium packages, calculate how many sizes 8 hexes contain 80% of all orders from the original data sets and visualise the hexes, colouring them by the number of fails on the map.*\n",
    "\n",
    "### Data Description\n",
    "We have two data sets: data_orders and data_offers, both being stored in a CSV format. The data_orders data set contains the following columns:\n",
    "\n",
    "- order_datetime - time of the order\n",
    "- origin_longitude - longitude of the order\n",
    "- origin_latitude - latitude of the order\n",
    "- m_order_eta - time before order arrival\n",
    "- order_gk - order number\n",
    "- order_status_key - status, an enumeration consisting of the following mapping:\n",
    "    4 - cancelled by client,\n",
    "    9 - cancelled by system, i.e., a reject\n",
    "- is_driver_assigned_key - whether a driver has been assigned\n",
    "- cancellation_time_in_seconds - how many seconds passed before cancellation\n",
    "\n",
    "The data_offers data set is a simple map with 2 columns:\n",
    "\n",
    "- order_gk - order number, associated with the same column from the orders data set\n",
    "- offer_id - ID of an offer\n",
    "\n",
    "### Practicalities\n",
    "Make sure that the solution reflects your entire thought process including the preparation of data - it is more important how the code is structured rather than just the final result or plot."
   ]
  },
  {
   "cell_type": "code",
   "execution_count": 1,
   "id": "395d1da2",
   "metadata": {},
   "outputs": [],
   "source": [
    "# import packages\n",
    "import pandas as pd\n",
    "import seaborn as sns\n",
    "import matplotlib.pyplot as plt"
   ]
  },
  {
   "cell_type": "code",
   "execution_count": 2,
   "id": "3a64ea94",
   "metadata": {},
   "outputs": [],
   "source": [
    "# read data\n",
    "offer = pd.read_csv(\"./datasets/data_offers.csv\")\n",
    "order = pd.read_csv(\"./datasets/data_orders.csv\")"
   ]
  },
  {
   "cell_type": "markdown",
   "id": "b98a15a8",
   "metadata": {},
   "source": [
    "### Data description"
   ]
  },
  {
   "cell_type": "code",
   "execution_count": 3,
   "id": "40519136",
   "metadata": {},
   "outputs": [
    {
     "data": {
      "text/html": [
       "<div>\n",
       "<style scoped>\n",
       "    .dataframe tbody tr th:only-of-type {\n",
       "        vertical-align: middle;\n",
       "    }\n",
       "\n",
       "    .dataframe tbody tr th {\n",
       "        vertical-align: top;\n",
       "    }\n",
       "\n",
       "    .dataframe thead th {\n",
       "        text-align: right;\n",
       "    }\n",
       "</style>\n",
       "<table border=\"1\" class=\"dataframe\">\n",
       "  <thead>\n",
       "    <tr style=\"text-align: right;\">\n",
       "      <th></th>\n",
       "      <th>order_gk</th>\n",
       "      <th>offer_id</th>\n",
       "    </tr>\n",
       "  </thead>\n",
       "  <tbody>\n",
       "    <tr>\n",
       "      <th>0</th>\n",
       "      <td>3000579625629</td>\n",
       "      <td>300050936206</td>\n",
       "    </tr>\n",
       "    <tr>\n",
       "      <th>1</th>\n",
       "      <td>3000627306450</td>\n",
       "      <td>300052064651</td>\n",
       "    </tr>\n",
       "    <tr>\n",
       "      <th>2</th>\n",
       "      <td>3000632920686</td>\n",
       "      <td>300052408812</td>\n",
       "    </tr>\n",
       "    <tr>\n",
       "      <th>3</th>\n",
       "      <td>3000632771725</td>\n",
       "      <td>300052393030</td>\n",
       "    </tr>\n",
       "    <tr>\n",
       "      <th>4</th>\n",
       "      <td>3000583467642</td>\n",
       "      <td>300051001196</td>\n",
       "    </tr>\n",
       "  </tbody>\n",
       "</table>\n",
       "</div>"
      ],
      "text/plain": [
       "        order_gk      offer_id\n",
       "0  3000579625629  300050936206\n",
       "1  3000627306450  300052064651\n",
       "2  3000632920686  300052408812\n",
       "3  3000632771725  300052393030\n",
       "4  3000583467642  300051001196"
      ]
     },
     "execution_count": 3,
     "metadata": {},
     "output_type": "execute_result"
    }
   ],
   "source": [
    "# data_offer\n",
    "offer.head()"
   ]
  },
  {
   "cell_type": "code",
   "execution_count": 4,
   "id": "db2eb02c",
   "metadata": {},
   "outputs": [
    {
     "data": {
      "text/html": [
       "<div>\n",
       "<style scoped>\n",
       "    .dataframe tbody tr th:only-of-type {\n",
       "        vertical-align: middle;\n",
       "    }\n",
       "\n",
       "    .dataframe tbody tr th {\n",
       "        vertical-align: top;\n",
       "    }\n",
       "\n",
       "    .dataframe thead th {\n",
       "        text-align: right;\n",
       "    }\n",
       "</style>\n",
       "<table border=\"1\" class=\"dataframe\">\n",
       "  <thead>\n",
       "    <tr style=\"text-align: right;\">\n",
       "      <th></th>\n",
       "      <th>order_datetime</th>\n",
       "      <th>origin_longitude</th>\n",
       "      <th>origin_latitude</th>\n",
       "      <th>m_order_eta</th>\n",
       "      <th>order_gk</th>\n",
       "      <th>order_status_key</th>\n",
       "      <th>is_driver_assigned_key</th>\n",
       "      <th>cancellations_time_in_seconds</th>\n",
       "    </tr>\n",
       "  </thead>\n",
       "  <tbody>\n",
       "    <tr>\n",
       "      <th>0</th>\n",
       "      <td>18:08:07</td>\n",
       "      <td>-0.978916</td>\n",
       "      <td>51.456173</td>\n",
       "      <td>60.0</td>\n",
       "      <td>3000583041974</td>\n",
       "      <td>4</td>\n",
       "      <td>1</td>\n",
       "      <td>198.0</td>\n",
       "    </tr>\n",
       "    <tr>\n",
       "      <th>1</th>\n",
       "      <td>20:57:32</td>\n",
       "      <td>-0.950385</td>\n",
       "      <td>51.456843</td>\n",
       "      <td>NaN</td>\n",
       "      <td>3000583116437</td>\n",
       "      <td>4</td>\n",
       "      <td>0</td>\n",
       "      <td>128.0</td>\n",
       "    </tr>\n",
       "    <tr>\n",
       "      <th>2</th>\n",
       "      <td>12:07:50</td>\n",
       "      <td>-0.969520</td>\n",
       "      <td>51.455544</td>\n",
       "      <td>477.0</td>\n",
       "      <td>3000582891479</td>\n",
       "      <td>4</td>\n",
       "      <td>1</td>\n",
       "      <td>46.0</td>\n",
       "    </tr>\n",
       "    <tr>\n",
       "      <th>3</th>\n",
       "      <td>13:50:20</td>\n",
       "      <td>-1.054671</td>\n",
       "      <td>51.460544</td>\n",
       "      <td>658.0</td>\n",
       "      <td>3000582941169</td>\n",
       "      <td>4</td>\n",
       "      <td>1</td>\n",
       "      <td>62.0</td>\n",
       "    </tr>\n",
       "    <tr>\n",
       "      <th>4</th>\n",
       "      <td>21:24:45</td>\n",
       "      <td>-0.967605</td>\n",
       "      <td>51.458236</td>\n",
       "      <td>NaN</td>\n",
       "      <td>3000583140877</td>\n",
       "      <td>9</td>\n",
       "      <td>0</td>\n",
       "      <td>NaN</td>\n",
       "    </tr>\n",
       "  </tbody>\n",
       "</table>\n",
       "</div>"
      ],
      "text/plain": [
       "  order_datetime  origin_longitude  origin_latitude  m_order_eta  \\\n",
       "0       18:08:07         -0.978916        51.456173         60.0   \n",
       "1       20:57:32         -0.950385        51.456843          NaN   \n",
       "2       12:07:50         -0.969520        51.455544        477.0   \n",
       "3       13:50:20         -1.054671        51.460544        658.0   \n",
       "4       21:24:45         -0.967605        51.458236          NaN   \n",
       "\n",
       "        order_gk  order_status_key  is_driver_assigned_key  \\\n",
       "0  3000583041974                 4                       1   \n",
       "1  3000583116437                 4                       0   \n",
       "2  3000582891479                 4                       1   \n",
       "3  3000582941169                 4                       1   \n",
       "4  3000583140877                 9                       0   \n",
       "\n",
       "   cancellations_time_in_seconds  \n",
       "0                          198.0  \n",
       "1                          128.0  \n",
       "2                           46.0  \n",
       "3                           62.0  \n",
       "4                            NaN  "
      ]
     },
     "execution_count": 4,
     "metadata": {},
     "output_type": "execute_result"
    }
   ],
   "source": [
    "order.head()"
   ]
  },
  {
   "cell_type": "code",
   "execution_count": 5,
   "id": "0b1791b8",
   "metadata": {},
   "outputs": [
    {
     "data": {
      "text/plain": [
       "((334363, 2), (10716, 8))"
      ]
     },
     "execution_count": 5,
     "metadata": {},
     "output_type": "execute_result"
    }
   ],
   "source": [
    "offer.shape, order.shape"
   ]
  },
  {
   "cell_type": "code",
   "execution_count": 6,
   "id": "b3d483a1",
   "metadata": {},
   "outputs": [
    {
     "data": {
      "text/plain": [
       "(array([1, 0]), array([4, 9]))"
      ]
     },
     "execution_count": 6,
     "metadata": {},
     "output_type": "execute_result"
    }
   ],
   "source": [
    "# looking at the order data, order_status, is_driver_assigned are categorical data\n",
    "order.is_driver_assigned_key.unique(), order.order_status_key.unique()"
   ]
  },
  {
   "cell_type": "markdown",
   "id": "56070229",
   "metadata": {},
   "source": [
    "- No nan values in order_status_key column => order table contains only canceled orders\n",
    "- order_status_key = 4 means cancelled by clients, 9 mean cancelled by system\n",
    "\n",
    "Lets split the data"
   ]
  },
  {
   "cell_type": "code",
   "execution_count": 7,
   "id": "3974e7ab",
   "metadata": {},
   "outputs": [
    {
     "data": {
      "text/plain": [
       "(7307, 8)"
      ]
     },
     "execution_count": 7,
     "metadata": {},
     "output_type": "execute_result"
    }
   ],
   "source": [
    "byClient=order[order.order_status_key == 4]\n",
    "byClient.shape"
   ]
  },
  {
   "cell_type": "code",
   "execution_count": 8,
   "id": "80dd3353",
   "metadata": {},
   "outputs": [
    {
     "data": {
      "text/plain": [
       "(3409, 8)"
      ]
     },
     "execution_count": 8,
     "metadata": {},
     "output_type": "execute_result"
    }
   ],
   "source": [
    "bySystem=order[order.order_status_key == 9]\n",
    "bySystem.shape"
   ]
  },
  {
   "cell_type": "markdown",
   "id": "00be06d3",
   "metadata": {},
   "source": [
    "Clearly, Clients have cancelled almost 2x higher then number of orders cancelled by system. It can be a cause of concern for the company (Gett).\n",
    "\n",
    "Lets investigate further, why clients and system have cancelled the orders from other columns."
   ]
  },
  {
   "cell_type": "code",
   "execution_count": 9,
   "id": "879c8243",
   "metadata": {},
   "outputs": [
    {
     "name": "stderr",
     "output_type": "stream",
     "text": [
      "/var/folders/pq/49c42znj69q0p6zs3s9qd_yr0000gn/T/ipykernel_2353/1629248865.py:2: UserWarning: Could not infer format, so each element will be parsed individually, falling back to `dateutil`. To ensure parsing is consistent and as-expected, please specify a format.\n",
      "  byClient['order_hour'] = pd.to_datetime(byClient['order_datetime']).dt.hour\n",
      "/var/folders/pq/49c42znj69q0p6zs3s9qd_yr0000gn/T/ipykernel_2353/1629248865.py:2: SettingWithCopyWarning: \n",
      "A value is trying to be set on a copy of a slice from a DataFrame.\n",
      "Try using .loc[row_indexer,col_indexer] = value instead\n",
      "\n",
      "See the caveats in the documentation: https://pandas.pydata.org/pandas-docs/stable/user_guide/indexing.html#returning-a-view-versus-a-copy\n",
      "  byClient['order_hour'] = pd.to_datetime(byClient['order_datetime']).dt.hour\n"
     ]
    }
   ],
   "source": [
    "# 1. order_datetime\n",
    "byClient['order_hour'] = pd.to_datetime(byClient['order_datetime']).dt.hour"
   ]
  },
  {
   "cell_type": "code",
   "execution_count": 10,
   "id": "78c26ae6",
   "metadata": {},
   "outputs": [
    {
     "data": {
      "text/plain": [
       "<Axes: >"
      ]
     },
     "execution_count": 10,
     "metadata": {},
     "output_type": "execute_result"
    },
    {
     "data": {
      "image/png": "[encoded data removed]",
      "text/plain": [
       "<Figure size 640x480 with 1 Axes>"
      ]
     },
     "metadata": {},
     "output_type": "display_data"
    }
   ],
   "source": [
    "byClient['order_hour'].hist(bins=24)"
   ]
  },
  {
   "cell_type": "markdown",
   "id": "2f109719",
   "metadata": {},
   "source": [
    "histogram of time shows cancellation by clients is high:\n",
    "\n",
    "**between 7am to 9am.**\n",
    "\n",
    "Possible reason could be rush hour to reach to work. Which means high demand, higher ETA. Need to test with reason with m_order_eta column.\n",
    "\n",
    "\n",
    "**between 10pm to mid-night**  \n",
    "\n",
    "This could be lack of availability of drivers at late hours. Will test this reason with is_driver_assigned_key column"
   ]
  },
  {
   "cell_type": "code",
   "execution_count": 11,
   "id": "4aa4bec3",
   "metadata": {},
   "outputs": [],
   "source": [
    "# 2: origin_longitude and origin_latitude\n",
    "# using geomap and looking into location\n",
    "from shapely.geometry import Point\n",
    "import geopandas as gpd\n",
    "from geopandas import GeoDataFrame"
   ]
  },
  {
   "cell_type": "code",
   "execution_count": 33,
   "id": "6fa43114",
   "metadata": {},
   "outputs": [
    {
     "name": "stderr",
     "output_type": "stream",
     "text": [
      "/var/folders/pq/49c42znj69q0p6zs3s9qd_yr0000gn/T/ipykernel_2353/4085267979.py:5: FutureWarning: The geopandas.dataset module is deprecated and will be removed in GeoPandas 1.0. You can get the original 'naturalearth_lowres' data from https://www.naturalearthdata.com/downloads/110m-cultural-vectors/.\n",
      "  world = gpd.read_file(gpd.datasets.get_path('naturalearth_lowres'))\n"
     ]
    },
    {
     "data": {
      "image/png": "[encoded data removed]",
      "text/plain": [
       "<Figure size 500x500 with 1 Axes>"
      ]
     },
     "metadata": {},
     "output_type": "display_data"
    }
   ],
   "source": [
    "geometry = [Point(xy) for xy in zip(byClient['origin_longitude'], byClient['origin_latitude'])]\n",
    "gdf = GeoDataFrame(byClient, geometry=geometry)   \n",
    "\n",
    "# world = gpd.read_file(gpd.datasets.get_path('naturalearth_lowres'))\n",
    "world = gpd.read_file(gpd.datasets.get_path('naturalearth_lowres'))\n",
    "\n",
    "uk = world[world.name == 'United Kingdom']\n",
    "\n",
    "gdf.plot(ax=uk.plot(figsize=(5, 5)), marker='o', color='red', markersize=15);\n"
   ]
  },
  {
   "cell_type": "markdown",
   "id": "4710b7b2",
   "metadata": {},
   "source": [
    "Not much info can be gathered from location dataset. However, more deeper lever of spatial analysis can find some correlation with canceled order. For now, moving on to next columns."
   ]
  },
  {
   "cell_type": "code",
   "execution_count": 43,
   "id": "8104c8e9",
   "metadata": {},
   "outputs": [
    {
     "data": {
      "text/plain": [
       "(7307, 4496, 2811)"
      ]
     },
     "execution_count": 43,
     "metadata": {},
     "output_type": "execute_result"
    }
   ],
   "source": [
    "# m_order_eta\n",
    "# If eta is high, its a discomfort for customer, can cause cancellation.\n",
    "\n",
    "byClient.m_order_eta.size, byClient.m_order_eta.isna().sum(), byClient.is_driver_assigned_key.sum()"
   ]
  },
  {
   "cell_type": "markdown",
   "id": "fcfdc511",
   "metadata": {},
   "source": [
    "61.5% ETA values are **NAN** because \"Driver is not assigned\". Customer may have waited for some time and then cancelled the order."
   ]
  },
  {
   "cell_type": "code",
   "execution_count": 44,
   "id": "36a71da8",
   "metadata": {},
   "outputs": [],
   "source": [
    "byClient_noDriver = byClient[byClient['is_driver_assigned_key']==0]\n",
    "byClient_Driver = byClient[byClient['is_driver_assigned_key']==1]"
   ]
  },
  {
   "cell_type": "code",
   "execution_count": 47,
   "id": "a15b7e08",
   "metadata": {},
   "outputs": [
    {
     "data": {
      "text/plain": [
       "count    4496.000000\n",
       "mean      110.371441\n",
       "std       120.676021\n",
       "min         3.000000\n",
       "25%        38.000000\n",
       "50%        88.000000\n",
       "75%       157.000000\n",
       "max      4097.000000\n",
       "Name: cancellations_time_in_seconds, dtype: float64"
      ]
     },
     "execution_count": 47,
     "metadata": {},
     "output_type": "execute_result"
    }
   ],
   "source": [
    "byClient_noDriver.cancellations_time_in_seconds.describe()"
   ]
  },
  {
   "cell_type": "code",
   "execution_count": 51,
   "id": "6135b61c",
   "metadata": {},
   "outputs": [
    {
     "data": {
      "text/plain": [
       "0"
      ]
     },
     "execution_count": 51,
     "metadata": {},
     "output_type": "execute_result"
    }
   ],
   "source": [
    "byClient_noDriver.cancellations_time_in_seconds.isna().sum() \n",
    "# 0 : no NAN values, all clients waited for some time and then cancelled"
   ]
  },
  {
   "cell_type": "code",
   "execution_count": 54,
   "id": "bb39b1b3",
   "metadata": {},
   "outputs": [
    {
     "data": {
      "text/plain": [
       "<Axes: >"
      ]
     },
     "execution_count": 54,
     "metadata": {},
     "output_type": "execute_result"
    },
    {
     "data": {
      "image/png": "[encoded data removed]",
      "text/plain": [
       "<Figure size 640x480 with 1 Axes>"
      ]
     },
     "metadata": {},
     "output_type": "display_data"
    }
   ],
   "source": [
    "byClient_noDriver.cancellations_time_in_seconds.plot(kind='box')"
   ]
  },
  {
   "cell_type": "markdown",
   "id": "43569981",
   "metadata": {},
   "source": []
  }
 ],
 "metadata": {
  "kernelspec": {
   "display_name": "python3-kernel",
   "language": "python",
   "name": "python3-kernel"
  },
  "language_info": {
   "codemirror_mode": {
    "name": "ipython",
    "version": 3
   },
   "file_extension": ".py",
   "mimetype": "text/x-python",
   "name": "python",
   "nbconvert_exporter": "python",
   "pygments_lexer": "ipython3",
   "version": "3.10.9"
  }
 },
 "nbformat": 4,
 "nbformat_minor": 5
}
